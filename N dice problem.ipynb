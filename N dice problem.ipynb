{
 "cells": [
  {
   "cell_type": "markdown",
   "metadata": {},
   "source": [
    "## The problem"
   ]
  },
  {
   "cell_type": "markdown",
   "metadata": {},
   "source": [
    "**You have N rolls of a die. You can chose to stop at any time, and the value of the game is determined by the value of the die on the roll you chose to stop at.**\n",
    "\n",
    "**Each roll have a cost C**\n",
    "\n",
    "**Determine the expected value of the game for the optimal strategy for any given N and C**"
   ]
  },
  {
   "cell_type": "markdown",
   "metadata": {},
   "source": [
    "To start, we study the simpliest cases with with C = 0  \n",
    "E(1,0) = (1+2+3+4+5+6)/6 = 3.5  \n",
    "\n",
    "E(2,0) : we roll again only if the first roll is < 3.5, i.e {1,2,3}. We don't roll if we have 4,5 or 6, i.e. an expected value of 5  \n",
    "E(2,0) = 1/2 * 3.5 + 1/2 * 5. 5 = 4.25.  \n",
    "\n",
    "So, the generalisation is \n",
    "$E(N,0) = P(rollAgain) * E(N-1,0) + P(Don't Roll Again) * E(actualEarn)$  \n",
    "We roll again if the dice score is the dice score is lower than the expected value. And don't roll if the score is greater that the expected value.  \n",
    "$E(N,0) = P(dice < E(N-1,0)) * E(N-1,0) + P(dice > E(N-1,0)) * E(ActualEarn)$\n",
    "\n",
    "For a dice, the expected value is the mean of all the possible results. If we dont roll again, it is because we have a score greater than the previous expected value.  \n",
    "E(actual earn) =$\\frac{1}{6-⌈E(N-1,0)⌉}\\sum_{i=⌈E(N-1,0)⌉}^{6} i$  \n",
    "We can represent E(actual earn) as a mean of all the possible scores  \n",
    "\n",
    "E(actual earn)= $\\frac{⌈E(N-1,0)⌉+6}{2}$\n",
    "\n",
    "P(dice < E(N-1,0)) represent the number of scores that are less than the Expected values : $\\frac{⌊E(N-1,0)⌋}{6}$\n",
    "\n",
    "P(dice >= E(N-1,0)) represent the number of scores that are greater than the Expected values : $\\frac{6-⌊E(N-1,0)⌋}{6}$\n",
    "\n",
    "Finally,\n",
    "\n",
    "E(N,0) = $\\frac{⌊E(N-1,0)⌋}{6} * ⌈E(N-1,0)⌉ + \\frac{6-⌊E(N-1,0)⌋}{6} * \\frac{⌈E(N-1,0)⌉+6}{2}$\n",
    "\n",
    "We can generalise with the cost C. At each new roll, a cost is applied. \n",
    "\n",
    "E(N,C) = $\\frac{⌊E(N-1,0)⌋}{6} * ⌈E(N-1,0)⌉ + \\frac{6-⌊E(N-1,0)⌋}{6} * \\frac{⌈E(N-1,0)⌉+6}{2} - C$\n",
    "\n",
    "\n"
   ]
  },
  {
   "cell_type": "code",
   "execution_count": 17,
   "metadata": {},
   "outputs": [
    {
     "name": "stdout",
     "output_type": "stream",
     "text": [
      "[3.5, 3.75, 3.875, 3.9375]\n"
     ]
    }
   ],
   "source": [
    "import math\n",
    "import numpy as np\n",
    "def expected_value(N,C):\n",
    "    dice_values = [1,2,3,4,5,6]\n",
    "    expected_list = [0]*N\n",
    "    \n",
    "    expected_list[0] = np.mean(dice_values)\n",
    "\n",
    "    for i in range(1,N):\n",
    "        expected_list[i] = math.floor(expected_list[i-1])/6 * expected_list[i-1] + (6-math.floor(expected_list[i-1]))/6 * ((math.ceil(expected_list[i-1])+6)/2 - C)\n",
    "\n",
    "    print(expected_list)\n",
    "\n",
    "expected_value(4,1)"
   ]
  }
 ],
 "metadata": {
  "kernelspec": {
   "display_name": "Python 3",
   "language": "python",
   "name": "python3"
  },
  "language_info": {
   "codemirror_mode": {
    "name": "ipython",
    "version": 3
   },
   "file_extension": ".py",
   "mimetype": "text/x-python",
   "name": "python",
   "nbconvert_exporter": "python",
   "pygments_lexer": "ipython3",
   "version": "3.11.9"
  }
 },
 "nbformat": 4,
 "nbformat_minor": 2
}
